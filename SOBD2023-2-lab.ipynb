{
 "cells": [
  {
   "cell_type": "markdown",
   "id": "d4f24b7e-ab0e-4419-9e93-3436ec2bb53b",
   "metadata": {},
   "source": [
    "\n",
    "<h2 style=\"text-align:center;font-size:200%;;\">Лабораторная работа №2 </h2>\n",
    "<h3  style=\"text-align:center;\"><span class=\"label label-success\">Машинное обучение на больших данных</span>\n"
   ]
  },
  {
   "cell_type": "markdown",
   "id": "be16268e-1f89-4a7d-8fc2-444a783c5893",
   "metadata": {},
   "source": [
    "## Цель и задачи работы:\n",
    "1. Познакомиться с базовыми алгоритмами машинного обучения;\r\n",
    "2. Познакомиться с реализацией машинного обучения в библиотеке Spark ML.\r\n",
    "3. Получить навыки разработки программного обеспечения для анализа данных с\r\n",
    "использованием pyspark."
   ]
  },
  {
   "cell_type": "markdown",
   "id": "4691d6d9-cbc4-4a89-bc78-e9a741da186e",
   "metadata": {},
   "source": [
    "## Выполнение работы\n",
    "### 1. Импорт необходимых библиотек и датасета"
   ]
  },
  {
   "cell_type": "code",
   "execution_count": 129,
   "id": "f14385d4-7089-4a56-8a47-d3ee61a01643",
   "metadata": {},
   "outputs": [
    {
     "name": "stdout",
     "output_type": "stream",
     "text": [
      "['.ipynb_checkpoints', 'endomondoHR.json', 'flights.csv', 'lab2.ipynb', 'new_data.csv']\n"
     ]
    }
   ],
   "source": [
    "import numpy as np \n",
    "import pandas as pd\n",
    "import os\n",
    "from pyspark.sql.types import *\n",
    "from pyspark.sql.functions import *\n",
    "from pyspark.sql import SparkSession\n",
    "import pyspark.sql.functions as f\n",
    "import seaborn as sns\n",
    "\n",
    "from pyspark.ml import Pipeline\n",
    "from pyspark.ml.feature import VectorAssembler, StringIndexer, VectorIndexer, MinMaxScaler\n",
    "from pyspark.ml.classification import LogisticRegression, GBTClassifier\n",
    "from pyspark.ml.tuning import ParamGridBuilder, CrossValidator\n",
    "from pyspark.ml.evaluation import BinaryClassificationEvaluator, RegressionEvaluator\n",
    "\n",
    "spark = SparkSession.builder.master(\"local[*]\").getOrCreate()\n",
    "\n",
    "print(os.listdir(\"./data\"))"
   ]
  },
  {
   "cell_type": "markdown",
   "id": "bf77e7ed-6bf6-4109-b94a-e3858470220c",
   "metadata": {},
   "source": [
    "### Загрузка данных\n",
    "Мною был использован датасет из предыдущей работы"
   ]
  },
  {
   "cell_type": "code",
   "execution_count": 77,
   "id": "a62e07b4-1b70-4870-ab72-ed8861a3ba0e",
   "metadata": {},
   "outputs": [
    {
     "name": "stdout",
     "output_type": "stream",
     "text": [
      "+-------+---------+------------------+------------------+------------------+-------------------+\n",
      "|site_id|period_id|actual_consumption|         actual_pv|           load_01|              pv_01|\n",
      "+-------+---------+------------------+------------------+------------------+-------------------+\n",
      "|     14|        0|7.4411982744932175|               0.0|  6.72386622388764|0.02844860772623234|\n",
      "|     14|        0|7.4411982744932175|               0.0| 7.139108644895107|0.02844860772623234|\n",
      "|     14|        0| 5.580898705869913|               0.0| 6.919577543883818|0.02844860772623234|\n",
      "|     14|        0|7.4411982744932175|               0.0| 7.229174824131117|0.02844860772623234|\n",
      "|     14|        0| 5.580898705869913|               0.0|  7.00607084262522|0.02844860772623234|\n",
      "|     14|        0|7.4411982744932175|               0.0| 6.946253004954323|0.02844860772623234|\n",
      "|     14|        0|7.4411982744932175|               0.0|7.8689995679947415|0.02844860772623234|\n",
      "|     14|        0|7.4411982744932175|               0.0|7.7213236313491125|0.02844860772623234|\n",
      "|     14|        0|7.4411982744932175|               0.0| 9.940124768822642|0.02844860772623234|\n",
      "|     14|        0|16.742696117609743| 1.524589958756942|12.635391468432324|  4.962741695535435|\n",
      "|     14|        0|18.602995686233044| 3.647477720687153|13.638772801340865|  5.540029024488688|\n",
      "|     14|        0|16.742696117609743| 9.464549794309091|14.694825075032501| 15.541035466811863|\n",
      "|     14|        0|18.602995686233044|20.295890280004258| 15.17347372498414|  24.63614003252163|\n",
      "|     14|        0|20.463295254856348| 24.20992954025388|16.890841743434894| 27.138298860541816|\n",
      "|     14|        0|14.882396548986435|29.694916234441454|15.118545279726519|  30.30549089590346|\n",
      "|     14|        0| 13.02209698036313|31.677071335956015|13.534423312821604|  32.31254324224415|\n",
      "|     14|        0|14.882396548986435| 32.67570199706909|13.698055844628557|  32.45075144601865|\n",
      "|     14|        0|11.161797411739826| 33.14011124201625| 12.94603150125169| 31.918550707556193|\n",
      "|     14|        0|18.602995686233044|32.449769453364986|14.159522903217399| 31.406268903864845|\n",
      "|     14|        0|14.882396548986435| 32.30393089266324|13.441313678014751|  30.42062048978228|\n",
      "+-------+---------+------------------+------------------+------------------+-------------------+\n",
      "only showing top 20 rows\n",
      "\n"
     ]
    }
   ],
   "source": [
    "csv = spark.read.csv('data/new_data.csv', inferSchema=True, header=True)\n",
    "csv.show()"
   ]
  },
  {
   "cell_type": "markdown",
   "id": "ef2d4374-f014-4d34-b88d-accabe63bb7e",
   "metadata": {},
   "source": [
    "## Выполнение анализа датасета с помощью:\n",
    "### 1. Задача регресии (LinearRegression)\n",
    "Линейная регрессия — это метод анализа данных, который предсказывает ценность неизвестных данных с помощью другого связанного и известного значения данных. Он математически моделирует неизвестную или зависимую переменную и известную или независимую переменную в виде линейного уравнения.\n"
   ]
  },
  {
   "cell_type": "markdown",
   "id": "658a691d-5faa-4747-aa6e-c8e096eb976e",
   "metadata": {},
   "source": [
    "### Подготовка данных"
   ]
  },
  {
   "cell_type": "code",
   "execution_count": 79,
   "id": "7ae67f98-a34d-44da-9e9b-2e233e7263b9",
   "metadata": {},
   "outputs": [
    {
     "name": "stdout",
     "output_type": "stream",
     "text": [
      "+-------+---------+------------------+-----------------+-------------------+-----+\n",
      "|site_id|period_id|actual_consumption|        actual_pv|              pv_01|label|\n",
      "+-------+---------+------------------+-----------------+-------------------+-----+\n",
      "|     14|        0|7.4411982744932175|              0.0|0.02844860772623234|    0|\n",
      "|     14|        0|7.4411982744932175|              0.0|0.02844860772623234|    0|\n",
      "|     14|        0| 5.580898705869913|              0.0|0.02844860772623234|    0|\n",
      "|     14|        0|7.4411982744932175|              0.0|0.02844860772623234|    0|\n",
      "|     14|        0| 5.580898705869913|              0.0|0.02844860772623234|    0|\n",
      "|     14|        0|7.4411982744932175|              0.0|0.02844860772623234|    0|\n",
      "|     14|        0|7.4411982744932175|              0.0|0.02844860772623234|    0|\n",
      "|     14|        0|7.4411982744932175|              0.0|0.02844860772623234|    0|\n",
      "|     14|        0|7.4411982744932175|              0.0|0.02844860772623234|    0|\n",
      "|     14|        0|16.742696117609743|1.524589958756942|  4.962741695535435|    1|\n",
      "+-------+---------+------------------+-----------------+-------------------+-----+\n",
      "only showing top 10 rows\n",
      "\n"
     ]
    }
   ],
   "source": [
    "data = csv.select(\"site_id\", \"period_id\", \"actual_consumption\", \"actual_pv\",\n",
    "                     \"pv_01\",((col(\"load_01\") > 10).cast(\"Int\").alias(\"label\")))\n",
    "data.show(10)"
   ]
  },
  {
   "cell_type": "markdown",
   "id": "ad1da83e-520a-4a33-b930-a82c28cb1635",
   "metadata": {},
   "source": [
    "### Разделение данных\n",
    "70% данных будут использованы для обучения, а 30% - для тестирования. В данных тестирования переименуем столбец меток в trueLabel, чтобы использовать его позже для сравнения прогнозируемых меток с известными фактическими значениями."
   ]
  },
  {
   "cell_type": "code",
   "execution_count": 80,
   "id": "56e01d37-1304-4bed-8803-76a528f31b91",
   "metadata": {},
   "outputs": [
    {
     "name": "stdout",
     "output_type": "stream",
     "text": [
      "Training Rows: 53834  Testing Rows: 23112\n"
     ]
    }
   ],
   "source": [
    "splits = data.randomSplit([0.7, 0.3])\n",
    "train = splits[0]\n",
    "test = splits[1].withColumnRenamed(\"label\", \"trueLabel\")\n",
    "train_rows = train.count()\n",
    "test_rows = test.count()\n",
    "print(\"Training Rows:\", train_rows, \" Testing Rows:\", test_rows)"
   ]
  },
  {
   "cell_type": "markdown",
   "id": "b93f6624-821b-4265-ab77-6f106040b733",
   "metadata": {},
   "source": [
    "### Создание пайплайна для обучения модели\n",
    "Пайплайн состоит из ряда этапов преобразования и оценки, которые обычно подготавливают DataFrame для моделирования, а затем обучают прогнозную модель. "
   ]
  },
  {
   "cell_type": "code",
   "execution_count": 103,
   "id": "fa07b93c-e22d-41c5-a487-ee2c0445a3b3",
   "metadata": {},
   "outputs": [],
   "source": [
    "catVect = VectorAssembler(inputCols=[ \"site_id\", \"period_id\"], outputCol=\"reg_catFeatures\")\n",
    "catIdx = VectorIndexer(inputCol=catVect.getOutputCol(), outputCol=\"reg_idxCatFeatures\")\n",
    "numVect = VectorAssembler(inputCols=[\"actual_consumption\", \"actual_pv\", \"pv_01\"], outputCol=\"reg_numFeatures\")\n",
    "minMax = MinMaxScaler(inputCol=numVect.getOutputCol(), outputCol='reg_normFeatures')\n",
    "featVect = VectorAssembler(inputCols=[\"reg_idxCatFeatures\", \"reg_normFeatures\"], outputCol=\"features\")\n",
    "lr = LogisticRegression(labelCol=\"label\",featuresCol=\"features\",maxIter=10,regParam=0.3)\n",
    "reg_pipeline = Pipeline(stages=[catVect, catIdx, numVect, minMax, featVect, lr])"
   ]
  },
  {
   "cell_type": "markdown",
   "id": "63b4d7b1-74e5-43a1-8c4e-6141d53d70ab",
   "metadata": {},
   "source": [
    "### Обучение пайплайна и получение предсказаний"
   ]
  },
  {
   "cell_type": "code",
   "execution_count": 104,
   "id": "c325fc02-efae-4cb1-8b2a-dc655b935779",
   "metadata": {},
   "outputs": [],
   "source": [
    "reg_model = reg_pipeline.fit(train)"
   ]
  },
  {
   "cell_type": "markdown",
   "id": "142dbe1e-0987-47a4-8229-aad760b46a32",
   "metadata": {},
   "source": [
    "### Создание прогнозов"
   ]
  },
  {
   "cell_type": "code",
   "execution_count": 112,
   "id": "d926f9dc-3fa2-46fc-aad3-bc087ed89f2d",
   "metadata": {},
   "outputs": [
    {
     "name": "stdout",
     "output_type": "stream",
     "text": [
      "+---------------------------------------------------------------------+----------+---------+\n",
      "|features                                                             |prediction|trueLabel|\n",
      "+---------------------------------------------------------------------+----------+---------+\n",
      "|(5,[2,4],[0.0857142857142857,0.16386691372286882])                   |0.0       |0        |\n",
      "|(5,[2,4],[0.0857142857142857,0.16605913054494645])                   |0.0       |0        |\n",
      "|(5,[2,4],[0.0857142857142857,0.1807438470882614])                    |0.0       |0        |\n",
      "|(5,[2,4],[0.0857142857142857,0.19123321019504805])                   |0.0       |0        |\n",
      "|(5,[2,4],[0.0857142857142857,0.20773066396307965])                   |0.0       |0        |\n",
      "|(5,[2,4],[0.0857142857142857,0.22157196508454452])                   |0.0       |0        |\n",
      "|[0.0,0.0,0.0857142857142857,0.006791452845966323,0.1602882272974758] |0.0       |0        |\n",
      "|[0.0,0.0,0.0857142857142857,0.014605862485948884,0.20024982690032406]|0.0       |0        |\n",
      "|[0.0,0.0,0.0857142857142857,0.017526422331918035,0.21824925300241285]|0.0       |0        |\n",
      "|[0.0,0.0,0.0857142857142857,0.027200421287824333,0.21947228067140934]|0.0       |0        |\n",
      "+---------------------------------------------------------------------+----------+---------+\n",
      "only showing top 10 rows\n",
      "\n"
     ]
    }
   ],
   "source": [
    "reg_predictions = reg_model.transform(test)\n",
    "reg_predicted = reg_predictions.select(\"features\", \"prediction\", \"trueLabel\")\n",
    "reg_predicted.show(10, truncate=False)"
   ]
  },
  {
   "cell_type": "markdown",
   "id": "7593084c-74d8-4f9a-bffa-5995f972702f",
   "metadata": {},
   "source": [
    "### Расчитываем метрики для регресии"
   ]
  },
  {
   "cell_type": "code",
   "execution_count": 118,
   "id": "1b36f2d2-e043-4aa3-906c-be4a61825633",
   "metadata": {},
   "outputs": [
    {
     "name": "stdout",
     "output_type": "stream",
     "text": [
      "RMSE =  0.4376097004334626\n",
      "R² =  0.20444522053609115\n"
     ]
    }
   ],
   "source": [
    "reg_evaluator = RegressionEvaluator(labelCol=\"trueLabel\", predictionCol=\"prediction\", metricName=\"rmse\")\n",
    "rmse = reg_evaluator.evaluate(reg_predicted)\n",
    "print(\"RMSE = \", rmse)\n",
    "\n",
    "reg_evaluator = RegressionEvaluator(labelCol=\"trueLabel\", predictionCol=\"prediction\", metricName=\"r2\")\n",
    "r2 = reg_evaluator.evaluate(reg_predicted)\n",
    "print(\"R² = \", r2)"
   ]
  },
  {
   "cell_type": "code",
   "execution_count": 119,
   "id": "19fdcec3-dae0-451c-a0fd-90a004d6ddd0",
   "metadata": {},
   "outputs": [
    {
     "name": "stdout",
     "output_type": "stream",
     "text": [
      "+------------------+\n",
      "|     stddev(label)|\n",
      "+------------------+\n",
      "|0.4896732691791974|\n",
      "+------------------+\n",
      "\n"
     ]
    }
   ],
   "source": [
    "data.select(stddev('label')).show()"
   ]
  },
  {
   "cell_type": "markdown",
   "id": "74d9c3c5-0d6e-4cc5-8fd7-cceb2cdd7be9",
   "metadata": {},
   "source": [
    "## 2. Задачи бинарной классификации\n",
    "С использованием алгоритма Gradient Boosting Machine. Градиентный бустинг — это популярный алгоритм бустинга в машинном обучении, используемый для задач классификации и регрессии. Бустинг — это один из методов ансамблевого обучения, который обучает модель последовательно, и каждая новая модель пытается исправить предыдущую. Он объединяет несколько слабых учеников в сильных. Существует два самых популярных алгоритма бустинга, т.е."
   ]
  },
  {
   "cell_type": "code",
   "execution_count": 125,
   "id": "093cb5dd-a66c-4ec6-96dc-e59132f1c7b7",
   "metadata": {},
   "outputs": [
    {
     "name": "stdout",
     "output_type": "stream",
     "text": [
      "+-------+---------+------------------+-----------------+-------------------+-----+\n",
      "|site_id|period_id|actual_consumption|        actual_pv|              pv_01|label|\n",
      "+-------+---------+------------------+-----------------+-------------------+-----+\n",
      "|     14|        0|7.4411982744932175|              0.0|0.02844860772623234|    0|\n",
      "|     14|        0|7.4411982744932175|              0.0|0.02844860772623234|    0|\n",
      "|     14|        0| 5.580898705869913|              0.0|0.02844860772623234|    0|\n",
      "|     14|        0|7.4411982744932175|              0.0|0.02844860772623234|    0|\n",
      "|     14|        0| 5.580898705869913|              0.0|0.02844860772623234|    0|\n",
      "|     14|        0|7.4411982744932175|              0.0|0.02844860772623234|    0|\n",
      "|     14|        0|7.4411982744932175|              0.0|0.02844860772623234|    0|\n",
      "|     14|        0|7.4411982744932175|              0.0|0.02844860772623234|    0|\n",
      "|     14|        0|7.4411982744932175|              0.0|0.02844860772623234|    0|\n",
      "|     14|        0|16.742696117609743|1.524589958756942|  4.962741695535435|    1|\n",
      "+-------+---------+------------------+-----------------+-------------------+-----+\n",
      "only showing top 10 rows\n",
      "\n"
     ]
    }
   ],
   "source": [
    "data = csv.select(\"site_id\", \"period_id\", \"actual_consumption\", \"actual_pv\",\n",
    "                     \"pv_01\",((col(\"load_01\") > 10).cast(\"Int\").alias(\"label\")))\n",
    "data.show(10)"
   ]
  },
  {
   "cell_type": "code",
   "execution_count": 126,
   "id": "ca677427-16cf-47e8-a1d2-5ec44f26e6ba",
   "metadata": {},
   "outputs": [
    {
     "name": "stdout",
     "output_type": "stream",
     "text": [
      "Training Rows: 54002  Testing Rows: 22944\n"
     ]
    }
   ],
   "source": [
    "splits = data.randomSplit([0.7, 0.3])\n",
    "train = splits[0]\n",
    "test = splits[1].withColumnRenamed(\"label\", \"trueLabel\")\n",
    "train_rows = train.count()\n",
    "test_rows = test.count()\n",
    "print(\"Training Rows:\", train_rows, \" Testing Rows:\", test_rows)"
   ]
  },
  {
   "cell_type": "code",
   "execution_count": 134,
   "id": "bc0fd103-f002-4d67-add3-d8f1cfd52b42",
   "metadata": {},
   "outputs": [],
   "source": [
    "catVect = VectorAssembler(inputCols=[ \"site_id\", \"period_id\"], outputCol=\"catFeatures\")\n",
    "catIdx = VectorIndexer(inputCol=catVect.getOutputCol(), outputCol=\"idxCatFeatures\")\n",
    "numVect = VectorAssembler(inputCols=[\"actual_consumption\", \"actual_pv\", \"pv_01\"], outputCol=\"numFeatures\")\n",
    "minMax = MinMaxScaler(inputCol=numVect.getOutputCol(), outputCol='normFeatures')\n",
    "featVect = VectorAssembler(inputCols=[\"idxCatFeatures\", \"normFeatures\"], outputCol=\"features\")\n",
    "gbt = GBTClassifier(labelCol=\"label\", featuresCol=\"features\", maxIter=10)\n",
    "pipeline = Pipeline(stages=[catVect, catIdx, numVect, minMax, featVect, gbt])"
   ]
  },
  {
   "cell_type": "code",
   "execution_count": 135,
   "id": "4cf05190-38d3-43b9-b5c6-2914425bd6c2",
   "metadata": {},
   "outputs": [],
   "source": [
    "piplineModel = pipeline.fit(train)"
   ]
  },
  {
   "cell_type": "code",
   "execution_count": 138,
   "id": "32c16926-64fe-4c30-9e10-cbf251945ac3",
   "metadata": {},
   "outputs": [
    {
     "name": "stdout",
     "output_type": "stream",
     "text": [
      "+----------------------------------------------------------------------+----------+---------+\n",
      "|features                                                              |prediction|trueLabel|\n",
      "+----------------------------------------------------------------------+----------+---------+\n",
      "|(5,[2,4],[0.0857142857142857,0.16531738409356708])                    |0.0       |0        |\n",
      "|(5,[2,4],[0.0857142857142857,0.20773066396307965])                    |0.0       |0        |\n",
      "|(5,[2,4],[0.0857142857142857,0.22157196508454452])                    |0.0       |0        |\n",
      "|(5,[2,4],[0.0857142857142857,0.3589852964288024])                     |0.0       |0        |\n",
      "|[0.0,0.0,0.0857142857142857,0.0015848728481653574,0.16827708451285758]|0.0       |0        |\n",
      "|[0.0,0.0,0.0857142857142857,0.005350349520991073,0.15600175970521876] |0.0       |0        |\n",
      "|[0.0,0.0,0.0857142857142857,0.007504402217784269,0.22677710970009074] |0.0       |0        |\n",
      "|[0.0,0.0,0.0857142857142857,0.020939228076570865,0.1387277202006229]  |0.0       |0        |\n",
      "|[0.0,0.0,0.0857142857142857,0.0418750449150408,0.16061604868969365]   |0.0       |0        |\n",
      "|[0.0,0.0,0.0857142857142857,0.042558609794202056,0.15390184540938404] |0.0       |0        |\n",
      "+----------------------------------------------------------------------+----------+---------+\n",
      "only showing top 10 rows\n",
      "\n"
     ]
    }
   ],
   "source": [
    "prediction = piplineModel.transform(test)\n",
    "predicted = prediction.select(\"features\", \"prediction\", \"trueLabel\")\n",
    "predicted.show(10, truncate=False)"
   ]
  },
  {
   "cell_type": "markdown",
   "id": "7d09c5ad-9b46-4780-9e1a-1e543106389e",
   "metadata": {},
   "source": [
    "### Оценка прогноза"
   ]
  },
  {
   "cell_type": "code",
   "execution_count": 139,
   "id": "2ba3981e-c1b7-49d0-90a1-1608f281a70d",
   "metadata": {},
   "outputs": [
    {
     "name": "stdout",
     "output_type": "stream",
     "text": [
      "+---------+------------------+\n",
      "|   metric|             value|\n",
      "+---------+------------------+\n",
      "|       TP|            8015.0|\n",
      "|       FP|             927.0|\n",
      "|       TN|           12811.0|\n",
      "|       FN|            1191.0|\n",
      "|Precision|0.8963319167971371|\n",
      "|   Recall|0.8706278514012601|\n",
      "|       F1|0.8832929248402027|\n",
      "+---------+------------------+\n",
      "\n"
     ]
    }
   ],
   "source": [
    "tp = float(predicted.filter(\"prediction == 1.0 AND truelabel == 1\").count())\n",
    "fp = float(predicted.filter(\"prediction == 1.0 AND truelabel == 0\").count())\n",
    "tn = float(predicted.filter(\"prediction == 0.0 AND truelabel == 0\").count())\n",
    "fn = float(predicted.filter(\"prediction == 0.0 AND truelabel == 1\").count())\n",
    "pr = tp / (tp + fp)\n",
    "re = tp / (tp + fn)\n",
    "metrics = spark.createDataFrame([\n",
    " (\"TP\", tp),\n",
    " (\"FP\", fp),\n",
    " (\"TN\", tn),\n",
    " (\"FN\", fn),\n",
    " (\"Precision\", pr),\n",
    " (\"Recall\", re),\n",
    " (\"F1\", 2*pr*re/(re+pr))],[\"metric\", \"value\"])\n",
    "metrics.show()"
   ]
  },
  {
   "cell_type": "markdown",
   "id": "93881c29-ed48-4a32-9099-53efb3be8075",
   "metadata": {},
   "source": [
    "### Оценка модели с использованием метрики AUR"
   ]
  },
  {
   "cell_type": "code",
   "execution_count": 146,
   "id": "1b663958-86af-44ea-9a02-e4d020c2729a",
   "metadata": {},
   "outputs": [
    {
     "name": "stdout",
     "output_type": "stream",
     "text": [
      "AUR =  0.9628242341460674\n",
      "+----------------------------------------+----------------------------------------+----------+---------+\n",
      "|rawPrediction                           |probability                             |prediction|trueLabel|\n",
      "+----------------------------------------+----------------------------------------+----------+---------+\n",
      "|[1.306153843463416,-1.306153843463416]  |[0.9316494932734865,0.06835050672651355]|0.0       |0        |\n",
      "|[1.2736315143022174,-1.2736315143022174]|[0.9273894271507156,0.0726105728492844] |0.0       |0        |\n",
      "|[1.2736315143022174,-1.2736315143022174]|[0.9273894271507156,0.0726105728492844] |0.0       |0        |\n",
      "|[1.2736315143022174,-1.2736315143022174]|[0.9273894271507156,0.0726105728492844] |0.0       |0        |\n",
      "|[1.306153843463416,-1.306153843463416]  |[0.9316494932734865,0.06835050672651355]|0.0       |0        |\n",
      "|[1.3186016396853792,-1.3186016396853792]|[0.9332178774803361,0.06678212251966387]|0.0       |0        |\n",
      "|[1.2880779539592164,-1.2880779539592164]|[0.9293111596557978,0.0706888403442022] |0.0       |0        |\n",
      "|[1.3186016396853792,-1.3186016396853792]|[0.9332178774803361,0.06678212251966387]|0.0       |0        |\n",
      "|[1.3186016396853792,-1.3186016396853792]|[0.9332178774803361,0.06678212251966387]|0.0       |0        |\n",
      "|[1.3186016396853792,-1.3186016396853792]|[0.9332178774803361,0.06678212251966387]|0.0       |0        |\n",
      "+----------------------------------------+----------------------------------------+----------+---------+\n",
      "only showing top 10 rows\n",
      "\n"
     ]
    }
   ],
   "source": [
    "evaluator = BinaryClassificationEvaluator(labelCol=\"trueLabel\", rawPredictionCol=\"rawPrediction\", metricName=\"areaUnderROC\")\n",
    "aur = evaluator.evaluate(prediction)\n",
    "print (\"AUR = \", aur)\n",
    "\n",
    "#Прогноз основан на необработанной оценке прогноза, которая описывает помеченную точку логистической функции. \n",
    "# Это необработанное предсказание затем преобразуется в предсказанную метку 0 или 1 на основе вектора вероятности, \n",
    "# который указывает достоверность для каждого возможного значения метки (в данном случае 0 и 1).\n",
    "# В качестве прогноза выбирается значение с наибольшей достоверностью.\n",
    "prediction.select(\"rawPrediction\", \"probability\", \"prediction\", \"trueLabel\").show(10, truncate=False)"
   ]
  },
  {
   "cell_type": "markdown",
   "id": "71584bec-e823-4c37-a810-90f38953b113",
   "metadata": {},
   "source": [
    "### Подбор гиперпарамтеров\n",
    "Чтобы найти наиболее эффективные параметры, мы можем использовать класс CrossValidator для оценки каждой комбинации параметров, определенных в ParameterGrid, по нескольким сгибам данных, разделенных на наборы данных для обучения и проверки."
   ]
  },
  {
   "cell_type": "code",
   "execution_count": 143,
   "id": "b447e68d-800a-4670-aecd-8813432a975f",
   "metadata": {},
   "outputs": [],
   "source": [
    "paramGrid = ParamGridBuilder().addGrid(lr.regParam, [0.3, 0.1]).addGrid(lr.maxIter, [10, 5]).addGrid(lr.threshold, \n",
    "                                                                                            [0.4, 0.3]).build()\n",
    "cv = CrossValidator(estimator=pipeline, evaluator=BinaryClassificationEvaluator(), estimatorParamMaps=paramGrid, \n",
    "                    numFolds=2)\n",
    "\n",
    "model = cv.fit(train)"
   ]
  },
  {
   "cell_type": "code",
   "execution_count": 147,
   "id": "b5d36a36-a4c3-4658-9d58-fdff15fba2fa",
   "metadata": {},
   "outputs": [
    {
     "name": "stdout",
     "output_type": "stream",
     "text": [
      "+--------------------+----------+---------+\n",
      "|            features|prediction|trueLabel|\n",
      "+--------------------+----------+---------+\n",
      "|(5,[2,4],[0.08571...|       0.0|        0|\n",
      "|(5,[2,4],[0.08571...|       0.0|        0|\n",
      "|(5,[2,4],[0.08571...|       0.0|        0|\n",
      "|(5,[2,4],[0.08571...|       0.0|        0|\n",
      "|[0.0,0.0,0.085714...|       0.0|        0|\n",
      "|[0.0,0.0,0.085714...|       0.0|        0|\n",
      "|[0.0,0.0,0.085714...|       0.0|        0|\n",
      "|[0.0,0.0,0.085714...|       0.0|        0|\n",
      "|[0.0,0.0,0.085714...|       0.0|        0|\n",
      "|[0.0,0.0,0.085714...|       0.0|        0|\n",
      "|[0.0,0.0,0.085714...|       0.0|        0|\n",
      "|[0.0,0.0,0.085714...|       0.0|        0|\n",
      "|[0.0,0.0,0.085714...|       0.0|        0|\n",
      "|[0.0,0.0,0.085714...|       0.0|        0|\n",
      "|[0.0,0.0,0.085714...|       0.0|        0|\n",
      "|[0.0,0.0,0.085714...|       0.0|        0|\n",
      "|[0.0,0.0,0.085714...|       0.0|        0|\n",
      "|[0.0,0.0,0.085714...|       0.0|        0|\n",
      "|[0.0,0.0,0.085714...|       0.0|        0|\n",
      "|[0.0,0.0,0.085714...|       0.0|        0|\n",
      "+--------------------+----------+---------+\n",
      "only showing top 20 rows\n",
      "\n"
     ]
    }
   ],
   "source": [
    "newPrediction = model.transform(test)\n",
    "newPredicted = prediction.select(\"features\", \"prediction\", \"trueLabel\")\n",
    "newPredicted.show()"
   ]
  },
  {
   "cell_type": "markdown",
   "id": "227dc26b-9b3c-41af-9105-01d368025a15",
   "metadata": {},
   "source": [
    "## Оцениваем прогноз после изменения"
   ]
  },
  {
   "cell_type": "code",
   "execution_count": 149,
   "id": "5e6eb271-1ae5-4e0d-b456-04303695e231",
   "metadata": {},
   "outputs": [
    {
     "name": "stdout",
     "output_type": "stream",
     "text": [
      "+---------+------------------+\n",
      "|   metric|             value|\n",
      "+---------+------------------+\n",
      "|       TP|            8015.0|\n",
      "|       FP|             927.0|\n",
      "|       TN|           12811.0|\n",
      "|       FN|            1191.0|\n",
      "|Precision|0.8963319167971371|\n",
      "|   Recall|0.8706278514012601|\n",
      "|       F1|0.8832929248402027|\n",
      "+---------+------------------+\n",
      "\n"
     ]
    }
   ],
   "source": [
    "tp2 = float(newPrediction.filter(\"prediction == 1.0 AND truelabel == 1\").count())\n",
    "fp2 = float(newPrediction.filter(\"prediction == 1.0 AND truelabel == 0\").count())\n",
    "tn2 = float(newPrediction.filter(\"prediction == 0.0 AND truelabel == 0\").count())\n",
    "fn2 = float(newPrediction.filter(\"prediction == 0.0 AND truelabel == 1\").count())\n",
    "pr2 = tp2 / (tp2 + fp2)\n",
    "re2 = tp2 / (tp2 + fn2)\n",
    "metrics2 = spark.createDataFrame([\n",
    " (\"TP\", tp2),\n",
    " (\"FP\", fp2),\n",
    " (\"TN\", tn2),\n",
    " (\"FN\", fn2),\n",
    " (\"Precision\", pr2),\n",
    " (\"Recall\", re2),\n",
    " (\"F1\", 2*pr2*re2/(re2+pr2))],[\"metric\", \"value\"])\n",
    "metrics2.show()"
   ]
  },
  {
   "cell_type": "code",
   "execution_count": 150,
   "id": "e3198d7f-7583-4dcd-ba9f-b095d322116b",
   "metadata": {},
   "outputs": [
    {
     "name": "stdout",
     "output_type": "stream",
     "text": [
      "AUR2 =  0.9628242341460675\n"
     ]
    }
   ],
   "source": [
    "evaluator2 = BinaryClassificationEvaluator(labelCol=\"trueLabel\", rawPredictionCol=\"prediction\", metricName=\"areaUnderROC\")\n",
    "aur2 = evaluator.evaluate(prediction)\n",
    "print( \"AUR2 = \", aur2)"
   ]
  },
  {
   "cell_type": "code",
   "execution_count": null,
   "id": "fe326ad5-9e7c-442c-8c02-d6e963dd55be",
   "metadata": {},
   "outputs": [],
   "source": []
  }
 ],
 "metadata": {
  "kernelspec": {
   "display_name": "Python 3 (ipykernel)",
   "language": "python",
   "name": "python3"
  },
  "language_info": {
   "codemirror_mode": {
    "name": "ipython",
    "version": 3
   },
   "file_extension": ".py",
   "mimetype": "text/x-python",
   "name": "python",
   "nbconvert_exporter": "python",
   "pygments_lexer": "ipython3",
   "version": "3.11.6"
  }
 },
 "nbformat": 4,
 "nbformat_minor": 5
}
